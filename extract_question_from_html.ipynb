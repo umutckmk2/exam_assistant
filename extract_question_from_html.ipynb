{
 "cells": [
  {
   "cell_type": "code",
   "execution_count": 2,
   "metadata": {},
   "outputs": [
    {
     "name": "stdout",
     "output_type": "stream",
     "text": [
      "Question Text:\n",
      " <p class=\"question-item-ask\">\n",
      "<p><strong>Aşağıdakilerden hangisi edebiyat tarihinin  konuları arasında <u>yer almaz?</u></strong></p>\n",
      "<p> </p>\n",
      "</p>\n",
      "\n",
      "Options:\n",
      "A) Edebî dönemler\n",
      "B) Şair ve yazarların edebî kişiliği\n",
      "C) Şair ve yazarların hayatları\n",
      "D) Edebî eserler\n",
      "E) Arkeolojik eserler\n"
     ]
    }
   ],
   "source": [
    "from extract_questions import extract_question_data\n",
    "\n",
    "# Extract question data from sample HTML file\n",
    "html_file = 'sample_question.html'\n",
    "question_data = extract_question_data(html_file)\n",
    "\n",
    "# Print the extracted data \n",
    "print(\"Question ID:\", question_data['id'])\n",
    "print(\"Question Number:\", question_data['number']) \n",
    "print(\"Question Text:\", question_data['question'])\n",
    "print(\"\\nOptions:\")\n",
    "for letter, text in question_data['options'].items():\n",
    "    print(f\"{letter}) {text}\")\n"
   ]
  }
 ],
 "metadata": {
  "kernelspec": {
   "display_name": "Python 3",
   "language": "python",
   "name": "python3"
  },
  "language_info": {
   "codemirror_mode": {
    "name": "ipython",
    "version": 3
   },
   "file_extension": ".py",
   "mimetype": "text/x-python",
   "name": "python",
   "nbconvert_exporter": "python",
   "pygments_lexer": "ipython3",
   "version": "3.13.0"
  }
 },
 "nbformat": 4,
 "nbformat_minor": 2
}
