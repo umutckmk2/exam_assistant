{
 "cells": [
  {
   "cell_type": "code",
   "execution_count": 1,
   "metadata": {},
   "outputs": [],
   "source": [
    "filePaths = [\n",
    "    'biyoloji_6_questions.json',\n",
    "    'biyoloji_7_questions.json',\n",
    "    'biyoloji_8_questions.json', \n",
    "    'biyoloji_9_questions.json',\n",
    "    'cografya_6_questions.json',\n",
    "    'cografya_7_questions.json',\n",
    "    'cografya_8_questions.json',\n",
    "    'cografya_9_questions.json',\n",
    "    'dikab_6_questions.json',\n",
    "    'dikab_7_questions.json',\n",
    "    'dikab_8_questions.json',\n",
    "    'dikab_9_questions.json',\n",
    "    'felsefe_7_questions.json',\n",
    "    'felsefe_8_questions.json',\n",
    "    'fizik_6_questions.json',\n",
    "    'fizik_7_questions.json', \n",
    "    'fizik_8_questions.json',\n",
    "    'fizik_9_questions.json',\n",
    "    'fl-biyoloji_6_questions.json',\n",
    "    'fl-biyoloji_7_questions.json',\n",
    "    'fl-biyoloji_8_questions.json',\n",
    "    'fl-biyoloji_9_questions.json',\n",
    "    'fl-fizik_6_questions.json',\n",
    "    'fl-fizik_7_questions.json',\n",
    "    'fl-fizik_8_questions.json',\n",
    "    'fl-fizik_9_questions.json',\n",
    "    'fl-kimya_6_questions.json',\n",
    "    'fl-kimya_7_questions.json',\n",
    "    'fl-kimya_8_questions.json',\n",
    "    'fl-kimya_9_questions.json',\n",
    "    'fl-matematik_6_questions.json',\n",
    "    'fl-matematik_7_questions.json',\n",
    "    'fl-matematik_8_questions.json',\n",
    "    'fl-matematik_9_questions.json',\n",
    "    'ingilizce_6_questions.json',\n",
    "    'ingilizce_7_questions.json',\n",
    "    'ingilizce_8_questions.json',\n",
    "    'ingilizce_9_questions.json',\n",
    "    'inkilap-tarihi_9_questions.json',\n",
    "    'kimya_6_questions.json',\n",
    "    'kimya_7_questions.json',\n",
    "    'kimya_8_questions.json',\n",
    "    'kimya_9_questions.json',\n",
    "    'matematik_6_questions.json',\n",
    "    'matematik_7_questions.json',\n",
    "    'matematik_8_questions.json',\n",
    "    'matematik_9_questions.json',\n",
    "    'tarih_6_questions.json',\n",
    "    'tarih_7_questions.json',\n",
    "    'tarih_8_questions.json',\n",
    "    'tde_6_questions.json',\n",
    "    'tde_7_questions.json',\n",
    "    'tde_8_questions.json',\n",
    "    'tde_9_questions.json',\n",
    "]"
   ]
  },
  {
   "cell_type": "code",
   "execution_count": 7,
   "metadata": {},
   "outputs": [
    {
     "name": "stdout",
     "output_type": "stream",
     "text": [
      "Completed removing questions without options\n"
     ]
    }
   ],
   "source": [
    "import json\n",
    "import os\n",
    "\n",
    "questions_dir = \"questions\"\n",
    "\n",
    "for file_path in filePaths:\n",
    "    full_path = os.path.join(questions_dir, file_path)\n",
    "    \n",
    "    try:\n",
    "        with open(full_path, 'r', encoding='utf-8') as f:\n",
    "            questions = json.load(f)\n",
    "            \n",
    "        # Filter out questions without options\n",
    "        questions_with_options = [q for q in questions if 'options' in q]\n",
    "            \n",
    "        # Write back filtered questions\n",
    "        with open(full_path, 'w', encoding='utf-8') as f:\n",
    "            json.dump(questions_with_options, f, ensure_ascii=False, indent=2)\n",
    "                \n",
    "    except Exception as e:\n",
    "        print(f\"Error processing {file_path}: {str(e)}\")\n",
    "\n",
    "print(\"Completed removing questions without options\")\n"
   ]
  }
 ],
 "metadata": {
  "kernelspec": {
   "display_name": "Python 3",
   "language": "python",
   "name": "python3"
  },
  "language_info": {
   "codemirror_mode": {
    "name": "ipython",
    "version": 3
   },
   "file_extension": ".py",
   "mimetype": "text/x-python",
   "name": "python",
   "nbconvert_exporter": "python",
   "pygments_lexer": "ipython3",
   "version": "3.13.0"
  }
 },
 "nbformat": 4,
 "nbformat_minor": 2
}
