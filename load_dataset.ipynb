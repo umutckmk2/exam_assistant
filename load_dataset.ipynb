{
 "cells": [
  {
   "cell_type": "code",
   "execution_count": 3,
   "metadata": {},
   "outputs": [],
   "source": [
    "from datasets import load_dataset\n",
    "\n",
    "dataset = load_dataset(\"alibayram/turkish_mmlu\", split=\"train\")\n"
   ]
  },
  {
   "cell_type": "code",
   "execution_count": 2,
   "metadata": {},
   "outputs": [
    {
     "name": "stdout",
     "output_type": "stream",
     "text": [
      "Found 37 Turkish questions\n",
      "\n",
      "Sample question:\n",
      "{'bolum': 'KPSS', 'konu': 'Matematik', 'soru': 'E, evrensel küme olmak üzere; E = (1, 9] A = [2, 5) olduğuna göre, Aı kümesi aşağıdakilerden hangisidir?', 'cevap': 2, 'aciklama': None, 'secenekler': ['(1, 2) ∪ (5, 9)', '(1, 2] ∪ (5, 9]', '(1, 2) ∪ [5, 9]', '(5, 9)', '(1, 2)'], 'id': 190741}\n",
      "\n",
      "Saved Turkish questions to assets/kpss_matematik.json\n"
     ]
    }
   ],
   "source": [
    "import json\n",
    "\n",
    "# Read the KPSS JSON file\n",
    "with open('assets/kpss.json', 'r', encoding='utf-8') as f:\n",
    "    kpss_data = json.load(f)\n",
    "\n",
    "# Filter questions where konu = \"Türkçe\" \n",
    "turkce_questions = [q for q in kpss_data if q['konu'] == 'Matematik']\n",
    "\n",
    "print(f\"Found {len(turkce_questions)} Turkish questions\")\n",
    "print(\"\\nSample question:\")\n",
    "print(turkce_questions[0])\n",
    "\n",
    "# Save filtered Turkish questions to a new JSON file\n",
    "with open('assets/kpss_matematik.json', 'w', encoding='utf-8') as f:\n",
    "    json.dump(turkce_questions, f, ensure_ascii=False, indent=4)\n",
    "\n",
    "print(\"\\nSaved Turkish questions to assets/kpss_matematik.json\") \n"
   ]
  }
 ],
 "metadata": {
  "kernelspec": {
   "display_name": "Python 3",
   "language": "python",
   "name": "python3"
  },
  "language_info": {
   "codemirror_mode": {
    "name": "ipython",
    "version": 3
   },
   "file_extension": ".py",
   "mimetype": "text/x-python",
   "name": "python",
   "nbconvert_exporter": "python",
   "pygments_lexer": "ipython3",
   "version": "3.13.0"
  }
 },
 "nbformat": 4,
 "nbformat_minor": 2
}
